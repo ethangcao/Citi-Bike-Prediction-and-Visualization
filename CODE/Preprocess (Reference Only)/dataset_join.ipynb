{
 "cells": [
  {
   "cell_type": "code",
   "execution_count": 137,
   "metadata": {},
   "outputs": [],
   "source": [
    "import pandas as pd\n",
    "import numpy as np"
   ]
  },
  {
   "cell_type": "code",
   "execution_count": 138,
   "metadata": {},
   "outputs": [],
   "source": [
    "pickup = pd.read_csv(\"pickup_summary.csv\")\n",
    "pickup = pickup.dropna()\n",
    "dropoff = pd.read_csv(\"dropoff_summary.csv\")\n",
    "dropoff = dropoff.dropna()"
   ]
  },
  {
   "cell_type": "code",
   "execution_count": 139,
   "metadata": {},
   "outputs": [],
   "source": [
    "def filter_station(df, col):\n",
    "    count = df.groupby([col]).size().to_frame(name = 'count').reset_index()\n",
    "    count = count[count['count']>100]\n",
    "    return count[col].unique()\n",
    "\n",
    "\n",
    "stations = np.intersect1d(filter_station(pickup, 'startstationname'), filter_station(dropoff, 'endstationname'))\n",
    "dates = pickup['date'].unique()"
   ]
  },
  {
   "cell_type": "code",
   "execution_count": 140,
   "metadata": {},
   "outputs": [],
   "source": [
    "df = np.transpose([np.tile(stations, len(dates)), np.repeat(dates, len(stations))])\n",
    "half_day = np.array([0,1])\n",
    "df = pd.DataFrame(np.tile(df, (2,1)), columns = ['station', 'date'])\n",
    "df['half_day'] = np.repeat(half_day, len(df)/2)"
   ]
  },
  {
   "cell_type": "code",
   "execution_count": 141,
   "metadata": {},
   "outputs": [],
   "source": [
    "df = pd.merge(df, pickup[['startstationname','date', 'half_day', 'pickup']],  how='left', left_on=['station','date', 'half_day'], right_on = ['startstationname','date', 'half_day'])\n",
    "df = pd.merge(df, dropoff[['endstationname','date', 'half_day', 'dropoff']],  how='left', left_on=['station','date', 'half_day'], right_on = ['endstationname','date', 'half_day'])"
   ]
  },
  {
   "cell_type": "code",
   "execution_count": 142,
   "metadata": {},
   "outputs": [],
   "source": [
    "weather = pd.read_csv(\"weather.csv\")\n",
    "df = pd.merge(df, weather,  how='left', left_on=['date'], right_on = ['timestamp'])"
   ]
  },
  {
   "cell_type": "code",
   "execution_count": 143,
   "metadata": {},
   "outputs": [],
   "source": [
    "covid = pd.read_csv(\"covid.csv\")\n",
    "df = pd.merge(df, covid,  how='left', left_on=['date'], right_on = ['date_of_interest'])"
   ]
  },
  {
   "cell_type": "code",
   "execution_count": 147,
   "metadata": {},
   "outputs": [],
   "source": [
    "df = df[['station', 'date', 'half_day', 'pickup', 'dropoff', 'AVG_TEMP', 'CASE_COUNT', 'DEATH_COUNT']].fillna(0)"
   ]
  },
  {
   "cell_type": "code",
   "execution_count": 149,
   "metadata": {},
   "outputs": [],
   "source": [
    "df.to_csv('data.csv')"
   ]
  },
  {
   "cell_type": "code",
   "execution_count": null,
   "metadata": {},
   "outputs": [],
   "source": []
  }
 ],
 "metadata": {
  "kernelspec": {
   "display_name": "Python 3",
   "language": "python",
   "name": "python3"
  },
  "language_info": {
   "codemirror_mode": {
    "name": "ipython",
    "version": 3
   },
   "file_extension": ".py",
   "mimetype": "text/x-python",
   "name": "python",
   "nbconvert_exporter": "python",
   "pygments_lexer": "ipython3",
   "version": "3.7.6"
  }
 },
 "nbformat": 4,
 "nbformat_minor": 4
}
